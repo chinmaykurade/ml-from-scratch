{
 "cells": [
  {
   "cell_type": "code",
   "execution_count": 1,
   "metadata": {},
   "outputs": [
    {
     "data": {
      "text/plain": [
       "dict_keys(['data', 'target', 'frame', 'target_names', 'DESCR', 'feature_names', 'filename', 'data_module'])"
      ]
     },
     "execution_count": 1,
     "metadata": {},
     "output_type": "execute_result"
    }
   ],
   "source": [
    "from sklearn.datasets import load_iris\n",
    "from sklearn import tree\n",
    "from sklearn.metrics import accuracy_score, f1_score\n",
    "from sklearn.model_selection import train_test_split\n",
    "iris = load_iris()\n",
    "X, y = iris.data, iris.target\n",
    "# clf = tree.DecisionTreeClassifier()\n",
    "# clf = clf.fit(X, y)\n",
    "iris.keys()"
   ]
  },
  {
   "cell_type": "code",
   "execution_count": 34,
   "metadata": {},
   "outputs": [
    {
     "data": {
      "text/plain": [
       "dict_keys(['data', 'target', 'frame', 'target_names', 'DESCR', 'feature_names'])"
      ]
     },
     "execution_count": 34,
     "metadata": {},
     "output_type": "execute_result"
    }
   ],
   "source": [
    "from sklearn.datasets import load_wine\n",
    "wine = load_wine()\n",
    "X, y = wine.data, wine.target\n",
    "wine.keys()"
   ]
  },
  {
   "cell_type": "code",
   "execution_count": 36,
   "metadata": {},
   "outputs": [
    {
     "data": {
      "text/plain": [
       "((178, 13), (178,))"
      ]
     },
     "execution_count": 36,
     "metadata": {},
     "output_type": "execute_result"
    }
   ],
   "source": [
    "X.shape, y.shape"
   ]
  },
  {
   "cell_type": "code",
   "execution_count": 37,
   "metadata": {},
   "outputs": [],
   "source": [
    "import numpy as np\n",
    "from collections import Counter\n",
    "import random"
   ]
  },
  {
   "cell_type": "code",
   "execution_count": 38,
   "metadata": {},
   "outputs": [],
   "source": [
    "def gini_impurity(y):\n",
    "    gini = 0\n",
    "    total = len(y)\n",
    "\n",
    "    n_classes = len(set(y))\n",
    "    counts = Counter(y)\n",
    "    \n",
    "    for k,v in counts.items():\n",
    "        gini += (v/total)**2\n",
    "    gini_impurity = 1 - gini\n",
    "    return gini_impurity\n",
    "\n",
    "\n",
    "def feature_split_interval(X_feature, interval_granularity=0.2, default_max_len_intervals=5):\n",
    "    \"\"\"\n",
    "    Get the intervals for a particular feature to find the gini impurity values for the split.\n",
    "    \"\"\"\n",
    "    X_feature = X_feature.reshape(-1,)\n",
    "\n",
    "    feature_max, feature_min = max(X_feature), min(X_feature)\n",
    "\n",
    "    max_len_intervals = max(default_max_len_intervals, int(interval_granularity * X_feature.shape[0]))\n",
    "    # print(max_len_intervals)\n",
    "\n",
    "    X_feature_sorted = np.sort(X_feature)\n",
    "\n",
    "    unique_values = np.unique(X_feature)\n",
    "\n",
    "    if unique_values.shape[0] == 1:\n",
    "        # print(np.array([unique_values[0]]))\n",
    "        return np.array([unique_values[0]])\n",
    "    elif unique_values.shape[0] == 2:\n",
    "        # print(np.array([unique_values.mean()]))\n",
    "        return np.array([unique_values.mean()])\n",
    "\n",
    "    # return X_feature_sorted\n",
    "\n",
    "    cum_diff = np.roll(X_feature_sorted, -1) - X_feature_sorted\n",
    "    cum_diff = cum_diff[:-1]\n",
    "    max_diff, min_diff = max(cum_diff), min(cum_diff)\n",
    "    median_diff = np.median(cum_diff)\n",
    "    median_nonzero_diff = np.median(cum_diff[cum_diff!=0])\n",
    "    min_nonzero_diff = np.min(cum_diff[cum_diff!=0])\n",
    "\n",
    "    start = feature_min + min_nonzero_diff/2\n",
    "    end = feature_max - min_nonzero_diff/2\n",
    "    min_nonzero_diff_interval = np.arange(start, end, min_nonzero_diff)\n",
    "\n",
    "    # print(start, end, min_nonzero_diff_interval)\n",
    "\n",
    "    if min_nonzero_diff_interval.shape[0] > max_len_intervals:\n",
    "        return np.linspace(start, end, max_len_intervals)\n",
    "\n",
    "    return min_nonzero_diff_interval\n",
    "\n",
    "\n",
    "def optimal_feature_split(X_feature, y):\n",
    "    split_intervals = feature_split_interval(X_feature)\n",
    "\n",
    "    parent_node_gini_impurity = gini_impurity(y)\n",
    "\n",
    "    min_weighted_gini_impurity = 1\n",
    "\n",
    "    # print(split_intervals, X_feature)\n",
    "    optimal_split_values = [split_intervals[0]]\n",
    "\n",
    "    for split_value in split_intervals:\n",
    "        # print(split_value)\n",
    "        ge_split = y[X_feature >= split_value]\n",
    "        lt_split = y[X_feature < split_value]\n",
    "        weighted_gini_impurity = (gini_impurity(lt_split) * len(lt_split) \\\n",
    "            + gini_impurity(ge_split) * len(ge_split))/ len(y)\n",
    "        \n",
    "        if weighted_gini_impurity <= min_weighted_gini_impurity:\n",
    "            if weighted_gini_impurity == min_weighted_gini_impurity:\n",
    "                optimal_split_values.append(split_value)\n",
    "            else:\n",
    "                optimal_split_values = [split_value]\n",
    "                min_weighted_gini_impurity = weighted_gini_impurity\n",
    "    \n",
    "    return np.mean(optimal_split_values), min_weighted_gini_impurity"
   ]
  },
  {
   "cell_type": "code",
   "execution_count": 39,
   "metadata": {},
   "outputs": [],
   "source": [
    "class Node:\n",
    "    \"\"\"\n",
    "    A class to represent a node(leaf) of a decision tree.\n",
    "    \"\"\"\n",
    "\n",
    "    def __init__(self, X, y, height, max_tree_height):\n",
    "        self.X = X\n",
    "        self.y = y\n",
    "        self.height = height\n",
    "        self.max_tree_height = max_tree_height\n",
    "        self.gini_impurity = gini_impurity(y)\n",
    "        \n",
    "        self.num_samples, self.num_features = X.shape\n",
    "        self.final_class = Counter(y).most_common()[0][0]\n",
    "        self.left_child = None\n",
    "        self.right_child = None\n",
    "\n",
    "        # print(self.gini_impurity)\n",
    "\n",
    "        if self.gini_impurity == 0 or self.height >= max_tree_height:\n",
    "            self.is_terminal = True\n",
    "            # print(self.gini_impurity, self.height, self.max_tree_height)\n",
    "        else:\n",
    "            self.is_terminal = False\n",
    "            self.feature_split = random.choice([*range(self.num_features)])\n",
    "            # print(X[:,self.feature_split])\n",
    "            split_intervals = feature_split_interval(X[:,self.feature_split])\n",
    "            # print(split_intervals)\n",
    "            self.split_value = np.random.choice(split_intervals)\n",
    "        \n",
    "        # print(X.shape, y.shape, self.gini_impurity, self.is_terminal)\n",
    "\n",
    "\n",
    "    def fit(self):\n",
    "        # print(self.X.shape)\n",
    "        min_gini_impurity = 1\n",
    "        for i in range(self.num_features):\n",
    "            split_value, split_gini_impurity = optimal_feature_split(self.X[:,i], self.y)\n",
    "            if split_gini_impurity < min_gini_impurity:\n",
    "                min_gini_impurity = split_gini_impurity\n",
    "                best_feature = i\n",
    "                best_feature_split_value = split_value\n",
    "        \n",
    "        X_feature = self.X[:, best_feature]\n",
    "        \n",
    "        X_lt = self.X[X_feature < best_feature_split_value, :]\n",
    "        X_ge = self.X[X_feature >= best_feature_split_value, :]\n",
    "\n",
    "        y_lt = self.y[X_feature < best_feature_split_value]\n",
    "        y_ge = self.y[X_feature >= best_feature_split_value]\n",
    "\n",
    "        self.feature_split = best_feature\n",
    "        self.split_value = best_feature_split_value\n",
    "        self.split_gini_impurity = min_gini_impurity\n",
    "\n",
    "        # print(best_feature, best_feature_split_value, min_gini_impurity, self.height)\n",
    "\n",
    "        if self.gini_impurity <= min_gini_impurity:\n",
    "            # This means the split did not improve the gini impurity, we need to stop\n",
    "            return self\n",
    "\n",
    "        self.left_child = Node(X_lt, y_lt, self.height+1, self.max_tree_height)\n",
    "        self.right_child = Node(X_ge, y_ge, self.height+1, self.max_tree_height)\n",
    "\n",
    "        if not self.left_child.is_terminal:\n",
    "            self.left_child.fit()\n",
    "\n",
    "        if not self.right_child.is_terminal:\n",
    "            self.right_child.fit()\n",
    "\n",
    "        return self\n",
    "\n",
    "\n",
    "    def predict_sample(self, X_sample):\n",
    "        if self.is_terminal:\n",
    "            return self.final_class\n",
    "        if X_sample[self.feature_split] >= self.split_value:\n",
    "            # Pass on to the right child\n",
    "            if self.right_child is not None:\n",
    "                return self.right_child.predict_sample(X_sample)\n",
    "            else:\n",
    "                return self.final_class\n",
    "        else:\n",
    "            if self.left_child is not None:\n",
    "                return self.left_child.predict_sample(X_sample)\n",
    "            else:\n",
    "                return self.left_child"
   ]
  },
  {
   "cell_type": "code",
   "execution_count": 40,
   "metadata": {},
   "outputs": [],
   "source": [
    "class DecisionTreeClassifier:\n",
    "    \"\"\"\n",
    "    A Decision Tree Classifier Machine Learning algorithm.\n",
    "\n",
    "    Parameters:\n",
    "        max_depth (int): The maximum depth of the decision tree\n",
    "        criterion (str): The criterion for splitting - 'gini' or 'information gain'\n",
    "    \"\"\"\n",
    "\n",
    "    def __init__(self, max_depth: int=20, criterion: str='gini'):\n",
    "        self.max_depth = max_depth\n",
    "\n",
    "\n",
    "    def fit(self, X: np.array, y: np.array):\n",
    "        n_samples, n_features = X.shape\n",
    "        assert n_samples == y.shape[0]\n",
    "        assert len(y.shape) == 1 or y.shape[1] == 1\n",
    "\n",
    "        self.root_node = Node(X, y, 1, self.max_depth)\n",
    "        self.root_node.fit()\n",
    "\n",
    "        return self\n",
    "\n",
    "    \n",
    "    def predict(self, X):\n",
    "        y_pred = np.array([self.root_node.predict_sample(X_sample) for X_sample in X])\n",
    "        return y_pred"
   ]
  },
  {
   "cell_type": "code",
   "execution_count": 41,
   "metadata": {},
   "outputs": [],
   "source": [
    "X_train, X_test, y_train, y_test = train_test_split(X,y, test_size=0.25)"
   ]
  },
  {
   "cell_type": "code",
   "execution_count": 64,
   "metadata": {},
   "outputs": [
    {
     "data": {
      "text/plain": [
       "(0.9924812030075187, 0.9333333333333333)"
      ]
     },
     "execution_count": 64,
     "metadata": {},
     "output_type": "execute_result"
    }
   ],
   "source": [
    "clf = DecisionTreeClassifier(max_depth=4)\n",
    "clf.fit(X_train, y_train)\n",
    "y_test_pred = clf.predict(X_test)\n",
    "y_train_pred = clf.predict(X_train)\n",
    "accuracy_score(y_train, y_train_pred), accuracy_score(y_test, y_test_pred)"
   ]
  },
  {
   "cell_type": "code",
   "execution_count": 65,
   "metadata": {},
   "outputs": [
    {
     "data": {
      "text/plain": [
       "(1.0, 0.9333333333333333)"
      ]
     },
     "execution_count": 65,
     "metadata": {},
     "output_type": "execute_result"
    }
   ],
   "source": [
    "clf = tree.DecisionTreeClassifier()\n",
    "clf.fit(X_train, y_train)\n",
    "y_test_pred = clf.predict(X_test)\n",
    "y_train_pred = clf.predict(X_train)\n",
    "accuracy_score(y_train, y_train_pred), accuracy_score(y_test, y_test_pred)"
   ]
  },
  {
   "cell_type": "code",
   "execution_count": null,
   "metadata": {},
   "outputs": [],
   "source": []
  }
 ],
 "metadata": {
  "kernelspec": {
   "display_name": "ml_scratch",
   "language": "python",
   "name": "python3"
  },
  "language_info": {
   "codemirror_mode": {
    "name": "ipython",
    "version": 3
   },
   "file_extension": ".py",
   "mimetype": "text/x-python",
   "name": "python",
   "nbconvert_exporter": "python",
   "pygments_lexer": "ipython3",
   "version": "3.11.0"
  },
  "orig_nbformat": 4,
  "vscode": {
   "interpreter": {
    "hash": "3d41c41a09a0f5a2ceecde79176bce900216b18a9fc439559abf44e262b257dc"
   }
  }
 },
 "nbformat": 4,
 "nbformat_minor": 2
}
