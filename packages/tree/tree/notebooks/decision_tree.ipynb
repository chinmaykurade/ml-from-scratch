{
 "cells": [
  {
   "cell_type": "code",
   "execution_count": 1,
   "metadata": {},
   "outputs": [
    {
     "data": {
      "text/plain": [
       "dict_keys(['data', 'target', 'frame', 'target_names', 'DESCR', 'feature_names', 'filename', 'data_module'])"
      ]
     },
     "execution_count": 1,
     "metadata": {},
     "output_type": "execute_result"
    }
   ],
   "source": [
    "from sklearn.datasets import load_iris\n",
    "from sklearn import tree\n",
    "from sklearn.metrics import accuracy_score, f1_score\n",
    "from sklearn.model_selection import train_test_split\n",
    "iris = load_iris()\n",
    "X, y = iris.data, iris.target\n",
    "# clf = tree.DecisionTreeClassifier()\n",
    "# clf = clf.fit(X, y)\n",
    "iris.keys()\n"
   ]
  },
  {
   "cell_type": "code",
   "execution_count": 2,
   "metadata": {},
   "outputs": [],
   "source": [
    "# from sklearn.datasets import load_wine\n",
    "# wine = load_wine()\n",
    "# X, y = wine.data, wine.target\n",
    "# wine.keys()"
   ]
  },
  {
   "cell_type": "code",
   "execution_count": 3,
   "metadata": {},
   "outputs": [
    {
     "data": {
      "text/plain": [
       "((150, 4), (150,))"
      ]
     },
     "execution_count": 3,
     "metadata": {},
     "output_type": "execute_result"
    }
   ],
   "source": [
    "X.shape, y.shape"
   ]
  },
  {
   "cell_type": "code",
   "execution_count": 4,
   "metadata": {},
   "outputs": [],
   "source": [
    "import numpy as np\n",
    "from collections import Counter\n",
    "import random"
   ]
  },
  {
   "cell_type": "code",
   "execution_count": 5,
   "metadata": {},
   "outputs": [],
   "source": [
    "# def calculate_gini_impurity(y):\n",
    "#     gini = 0\n",
    "#     total = len(y)\n",
    "\n",
    "#     n_classes = len(set(y))\n",
    "#     counts = Counter(y)\n",
    "    \n",
    "#     for k,v in counts.items():\n",
    "#         gini += (v/total)**2\n",
    "#     gini_impurity = 1 - gini\n",
    "    \n",
    "#     return gini_impurity\n",
    "\n",
    "\n",
    "# def calculate_entropy(y):\n",
    "#     entropy = 0\n",
    "#     total = len(y)\n",
    "\n",
    "#     n_classes = len(set(y))\n",
    "#     counts = Counter(y)\n",
    "    \n",
    "#     for k,v in counts.items():\n",
    "#         p_class = v/total\n",
    "#         # print(p_class)\n",
    "#         entropy += -(p_class) * np.log(p_class) / np.log(2)\n",
    "    \n",
    "#     return entropy\n",
    "\n",
    "\n",
    "# def feature_split_interval(X_feature, interval_granularity=0.2, default_max_len_intervals=5):\n",
    "#     \"\"\"\n",
    "#     Get the intervals for a particular feature to find the gini impurity values for the split.\n",
    "#     \"\"\"\n",
    "#     X_feature = X_feature.reshape(-1,)\n",
    "\n",
    "#     feature_max, feature_min = max(X_feature), min(X_feature)\n",
    "\n",
    "#     max_len_intervals = max(default_max_len_intervals, int(interval_granularity * X_feature.shape[0]))\n",
    "#     # print(max_len_intervals)\n",
    "\n",
    "#     X_feature_sorted = np.sort(X_feature)\n",
    "\n",
    "#     unique_values = np.unique(X_feature)\n",
    "\n",
    "#     if unique_values.shape[0] == 1:\n",
    "#         # print(np.array([unique_values[0]]))\n",
    "#         return np.array([unique_values[0]])\n",
    "#     elif unique_values.shape[0] == 2:\n",
    "#         # print(np.array([unique_values.mean()]))\n",
    "#         return np.array([unique_values.mean()])\n",
    "\n",
    "#     # return X_feature_sorted\n",
    "\n",
    "#     cum_diff = np.roll(X_feature_sorted, -1) - X_feature_sorted\n",
    "#     cum_diff = cum_diff[:-1]\n",
    "#     max_diff, min_diff = max(cum_diff), min(cum_diff)\n",
    "#     median_diff = np.median(cum_diff)\n",
    "#     median_nonzero_diff = np.median(cum_diff[cum_diff!=0])\n",
    "#     min_nonzero_diff = np.min(cum_diff[cum_diff!=0])\n",
    "\n",
    "#     start = feature_min + min_nonzero_diff/2\n",
    "#     end = feature_max - min_nonzero_diff/2\n",
    "#     min_nonzero_diff_interval = np.arange(start, end, min_nonzero_diff)\n",
    "\n",
    "#     # print(start, end, min_nonzero_diff_interval)\n",
    "\n",
    "#     if min_nonzero_diff_interval.shape[0] > max_len_intervals:\n",
    "#         return np.linspace(start, end, max_len_intervals)\n",
    "\n",
    "#     return min_nonzero_diff_interval\n",
    "\n",
    "\n",
    "# def optimal_feature_split(X_feature, y, criterion='gini'):\n",
    "#     split_intervals = feature_split_interval(X_feature)\n",
    "\n",
    "#     if criterion == 'gini':\n",
    "#         parent_node_criterion_value = calculate_gini_impurity(y)\n",
    "#     else:\n",
    "#         parent_node_criterion_value = calculate_entropy(y)\n",
    "\n",
    "#     min_weighted_criterion_value = 1\n",
    "\n",
    "#     # print(split_intervals, X_feature)\n",
    "#     optimal_split_values = [split_intervals[0]]\n",
    "\n",
    "#     for split_value in split_intervals:\n",
    "#         # print(split_value)\n",
    "#         ge_split = y[X_feature >= split_value]\n",
    "#         lt_split = y[X_feature < split_value]\n",
    "\n",
    "#         if criterion == 'gini':\n",
    "#             weighted_criterion_value = (calculate_gini_impurity(lt_split) * len(lt_split) \\\n",
    "#                 + calculate_gini_impurity(ge_split) * len(ge_split))/ len(y)\n",
    "#         else:\n",
    "#             weighted_criterion_value = (calculate_entropy(lt_split) * len(lt_split) \\\n",
    "#                 + calculate_entropy(ge_split) * len(ge_split))/ len(y)\n",
    "        \n",
    "#         if weighted_criterion_value <= min_weighted_criterion_value:\n",
    "#             if weighted_criterion_value == min_weighted_criterion_value:\n",
    "#                 optimal_split_values.append(split_value)\n",
    "#             else:\n",
    "#                 optimal_split_values = [split_value]\n",
    "#                 min_weighted_criterion_value = weighted_criterion_value\n",
    "    \n",
    "#     return np.mean(optimal_split_values), min_weighted_criterion_value"
   ]
  },
  {
   "cell_type": "code",
   "execution_count": 6,
   "metadata": {},
   "outputs": [],
   "source": [
    "# class Node:\n",
    "#     \"\"\"\n",
    "#     A class to represent a node(leaf) of a decision tree.\n",
    "#     \"\"\"\n",
    "\n",
    "#     def __init__(self, X, y, height, max_tree_height, criterion):\n",
    "#         self.X = X\n",
    "#         self.y = y\n",
    "#         self.height = height\n",
    "#         self.max_tree_height = max_tree_height\n",
    "#         self.criterion = criterion\n",
    "#         if criterion == 'gini':\n",
    "#             self.criterion_value = calculate_gini_impurity(y)\n",
    "#         else: \n",
    "#             self.criterion_value = calculate_entropy(y)\n",
    "        \n",
    "#         self.num_samples, self.num_features = X.shape\n",
    "#         self.final_class = Counter(y).most_common()[0][0]\n",
    "#         self.left_child = None\n",
    "#         self.right_child = None\n",
    "\n",
    "#         # print(self.gini_impurity)\n",
    "\n",
    "#         if self.criterion_value == 0 or self.height >= max_tree_height:\n",
    "#             self.is_terminal = True\n",
    "#             # print(self.gini_impurity, self.height, self.max_tree_height)\n",
    "#         else:\n",
    "#             self.is_terminal = False\n",
    "#             self.feature_split = random.choice([*range(self.num_features)])\n",
    "#             # print(X[:,self.feature_split])\n",
    "#             split_intervals = feature_split_interval(X[:,self.feature_split])\n",
    "#             # print(split_intervals)\n",
    "#             self.split_value = np.random.choice(split_intervals)\n",
    "        \n",
    "#         # print(X.shape, y.shape, self.criterion_value, self.is_terminal)\n",
    "\n",
    "\n",
    "#     def fit(self):\n",
    "#         # print(self.X.shape)\n",
    "#         min_criterion_value = 1\n",
    "#         for i in range(self.num_features):\n",
    "#             split_value, split_criterion_value = optimal_feature_split(self.X[:,i], self.y, criterion=self.criterion)\n",
    "#             if split_criterion_value < min_criterion_value:\n",
    "#                 min_criterion_value = split_criterion_value\n",
    "#                 best_feature = i\n",
    "#                 best_feature_split_value = split_value\n",
    "        \n",
    "#         X_feature = self.X[:, best_feature]\n",
    "        \n",
    "#         X_lt = self.X[X_feature < best_feature_split_value, :]\n",
    "#         X_ge = self.X[X_feature >= best_feature_split_value, :]\n",
    "\n",
    "#         y_lt = self.y[X_feature < best_feature_split_value]\n",
    "#         y_ge = self.y[X_feature >= best_feature_split_value]\n",
    "\n",
    "#         self.feature_split = best_feature\n",
    "#         self.split_value = best_feature_split_value\n",
    "#         self.split_criterion_value = min_criterion_value\n",
    "\n",
    "#         # print(best_feature, best_feature_split_value, min_gini_impurity, self.height)\n",
    "\n",
    "#         if self.criterion_value <= min_criterion_value:\n",
    "#             # This means the split did not improve the criteron - gini impurity, we need to stop\n",
    "#             return self\n",
    "\n",
    "#         self.left_child = Node(X_lt, y_lt, self.height+1, self.max_tree_height, self.criterion)\n",
    "#         self.right_child = Node(X_ge, y_ge, self.height+1, self.max_tree_height, self.criterion)\n",
    "\n",
    "#         if not self.left_child.is_terminal:\n",
    "#             self.left_child.fit()\n",
    "\n",
    "#         if not self.right_child.is_terminal:\n",
    "#             self.right_child.fit()\n",
    "\n",
    "#         return self\n",
    "\n",
    "\n",
    "#     def predict_sample(self, X_sample):\n",
    "#         if self.is_terminal:\n",
    "#             return self.final_class\n",
    "#         if X_sample[self.feature_split] >= self.split_value:\n",
    "#             # Pass on to the right child\n",
    "#             if self.right_child is not None:\n",
    "#                 return self.right_child.predict_sample(X_sample)\n",
    "#             else:\n",
    "#                 return self.final_class\n",
    "#         else:\n",
    "#             if self.left_child is not None:\n",
    "#                 return self.left_child.predict_sample(X_sample)\n",
    "#             else:\n",
    "#                 return self.final_class"
   ]
  },
  {
   "cell_type": "code",
   "execution_count": 7,
   "metadata": {},
   "outputs": [],
   "source": [
    "# class DecisionTreeClassifier:\n",
    "#     \"\"\"\n",
    "#     A Decision Tree Classifier Machine Learning algorithm.\n",
    "\n",
    "#     Parameters:\n",
    "#         max_depth (int): The maximum depth of the decision tree\n",
    "#         criterion (str): The criterion for splitting - 'gini' or 'information gain'\n",
    "#     \"\"\"\n",
    "\n",
    "#     def __init__(self, max_depth: int=20, criterion: str='gini'):\n",
    "#         self.max_depth = max_depth\n",
    "#         self.criterion = criterion\n",
    "\n",
    "\n",
    "#     def fit(self, X: np.array, y: np.array):\n",
    "#         n_samples, n_features = X.shape\n",
    "#         assert n_samples == y.shape[0]\n",
    "#         assert len(y.shape) == 1 or y.shape[1] == 1\n",
    "\n",
    "#         self.root_node = Node(X, y, 1, self.max_depth, self.criterion)\n",
    "#         self.root_node.fit()\n",
    "\n",
    "#         return self\n",
    "\n",
    "    \n",
    "#     def predict(self, X):\n",
    "#         y_pred = np.array([self.root_node.predict_sample(X_sample) for X_sample in X])\n",
    "#         return y_pred"
   ]
  },
  {
   "cell_type": "code",
   "execution_count": 8,
   "metadata": {},
   "outputs": [],
   "source": [
    "from tree.decision_tree import DecisionTreeClassifier"
   ]
  },
  {
   "cell_type": "code",
   "execution_count": 9,
   "metadata": {},
   "outputs": [],
   "source": [
    "X_train, X_test, y_train, y_test = train_test_split(X,y, test_size=0.25, random_state=10)"
   ]
  },
  {
   "cell_type": "code",
   "execution_count": 10,
   "metadata": {},
   "outputs": [
    {
     "data": {
      "text/plain": [
       "(0.9732142857142857, 0.9473684210526315)"
      ]
     },
     "execution_count": 10,
     "metadata": {},
     "output_type": "execute_result"
    }
   ],
   "source": [
    "clf = DecisionTreeClassifier(max_depth=5, criterion='information_gain')\n",
    "clf.fit(X_train, y_train)\n",
    "y_test_pred = clf.predict(X_test)\n",
    "y_train_pred = clf.predict(X_train)\n",
    "accuracy_score(y_train, y_train_pred), accuracy_score(y_test, y_test_pred)"
   ]
  },
  {
   "cell_type": "code",
   "execution_count": 11,
   "metadata": {},
   "outputs": [
    {
     "data": {
      "text/plain": [
       "(0.9821428571428571, 0.9210526315789473)"
      ]
     },
     "execution_count": 11,
     "metadata": {},
     "output_type": "execute_result"
    }
   ],
   "source": [
    "clf = DecisionTreeClassifier(max_depth=5, criterion='gini')\n",
    "clf.fit(X_train, y_train)\n",
    "y_test_pred = clf.predict(X_test)\n",
    "y_train_pred = clf.predict(X_train)\n",
    "accuracy_score(y_train, y_train_pred), accuracy_score(y_test, y_test_pred)"
   ]
  },
  {
   "cell_type": "code",
   "execution_count": 12,
   "metadata": {},
   "outputs": [
    {
     "data": {
      "text/plain": [
       "(1.0, 0.9736842105263158)"
      ]
     },
     "execution_count": 12,
     "metadata": {},
     "output_type": "execute_result"
    }
   ],
   "source": [
    "clf = tree.DecisionTreeClassifier()\n",
    "clf.fit(X_train, y_train)\n",
    "y_test_pred = clf.predict(X_test)\n",
    "y_train_pred = clf.predict(X_train)\n",
    "accuracy_score(y_train, y_train_pred), accuracy_score(y_test, y_test_pred)"
   ]
  },
  {
   "cell_type": "code",
   "execution_count": 13,
   "metadata": {},
   "outputs": [
    {
     "data": {
      "text/plain": [
       "(1.0, 0.9736842105263158)"
      ]
     },
     "execution_count": 13,
     "metadata": {},
     "output_type": "execute_result"
    }
   ],
   "source": [
    "from sklearn.ensemble import RandomForestClassifier\n",
    "clf = RandomForestClassifier()\n",
    "clf.fit(X_train, y_train)\n",
    "y_test_pred = clf.predict(X_test)\n",
    "y_train_pred = clf.predict(X_train)\n",
    "accuracy_score(y_train, y_train_pred), accuracy_score(y_test, y_test_pred)"
   ]
  },
  {
   "cell_type": "code",
   "execution_count": 14,
   "metadata": {},
   "outputs": [
    {
     "name": "stdout",
     "output_type": "stream",
     "text": [
      "1.0 0.9736842105263158\n"
     ]
    },
    {
     "data": {
      "image/svg+xml": "<?xml version=\"1.0\" encoding=\"UTF-8\" standalone=\"no\"?>\n<!DOCTYPE svg PUBLIC \"-//W3C//DTD SVG 1.1//EN\"\n \"http://www.w3.org/Graphics/SVG/1.1/DTD/svg11.dtd\">\n<!-- Generated by graphviz version 7.0.5 (20221223.1930)\n -->\n<!-- Title: Tree Pages: 1 -->\n<svg width=\"842pt\" height=\"552pt\"\n viewBox=\"0.00 0.00 842.00 552.00\" xmlns=\"http://www.w3.org/2000/svg\" xmlns:xlink=\"http://www.w3.org/1999/xlink\">\n<g id=\"graph0\" class=\"graph\" transform=\"scale(1 1) rotate(0) translate(4 548)\">\n<title>Tree</title>\n<polygon fill=\"white\" stroke=\"none\" points=\"-4,4 -4,-548 838,-548 838,4 -4,4\"/>\n<!-- 0 -->\n<g id=\"node1\" class=\"node\">\n<title>0</title>\n<path fill=\"#fffdfc\" stroke=\"black\" d=\"M504,-544C504,-544 363,-544 363,-544 357,-544 351,-538 351,-532 351,-532 351,-473 351,-473 351,-467 357,-461 363,-461 363,-461 504,-461 504,-461 510,-461 516,-467 516,-473 516,-473 516,-532 516,-532 516,-538 510,-544 504,-544\"/>\n<text text-anchor=\"start\" x=\"359\" y=\"-528.8\" font-family=\"Helvetica,sans-Serif\" font-size=\"14.00\">petal length (cm) ≤ 2.45</text>\n<text text-anchor=\"start\" x=\"396\" y=\"-513.8\" font-family=\"Helvetica,sans-Serif\" font-size=\"14.00\">gini = 0.666</text>\n<text text-anchor=\"start\" x=\"386\" y=\"-498.8\" font-family=\"Helvetica,sans-Serif\" font-size=\"14.00\">samples = 112</text>\n<text text-anchor=\"start\" x=\"373\" y=\"-483.8\" font-family=\"Helvetica,sans-Serif\" font-size=\"14.00\">value = [39, 35, 38]</text>\n<text text-anchor=\"start\" x=\"387.5\" y=\"-468.8\" font-family=\"Helvetica,sans-Serif\" font-size=\"14.00\">class = setosa</text>\n</g>\n<!-- 1 -->\n<g id=\"node2\" class=\"node\">\n<title>1</title>\n<path fill=\"#e58139\" stroke=\"black\" d=\"M403,-417.5C403,-417.5 306,-417.5 306,-417.5 300,-417.5 294,-411.5 294,-405.5 294,-405.5 294,-361.5 294,-361.5 294,-355.5 300,-349.5 306,-349.5 306,-349.5 403,-349.5 403,-349.5 409,-349.5 415,-355.5 415,-361.5 415,-361.5 415,-405.5 415,-405.5 415,-411.5 409,-417.5 403,-417.5\"/>\n<text text-anchor=\"start\" x=\"325.5\" y=\"-402.3\" font-family=\"Helvetica,sans-Serif\" font-size=\"14.00\">gini = 0.0</text>\n<text text-anchor=\"start\" x=\"311\" y=\"-387.3\" font-family=\"Helvetica,sans-Serif\" font-size=\"14.00\">samples = 39</text>\n<text text-anchor=\"start\" x=\"302\" y=\"-372.3\" font-family=\"Helvetica,sans-Serif\" font-size=\"14.00\">value = [39, 0, 0]</text>\n<text text-anchor=\"start\" x=\"308.5\" y=\"-357.3\" font-family=\"Helvetica,sans-Serif\" font-size=\"14.00\">class = setosa</text>\n</g>\n<!-- 0&#45;&gt;1 -->\n<g id=\"edge1\" class=\"edge\">\n<title>0&#45;&gt;1</title>\n<path fill=\"none\" stroke=\"black\" d=\"M405.87,-460.58C398.57,-449.77 390.68,-438.09 383.33,-427.19\"/>\n<polygon fill=\"black\" stroke=\"black\" points=\"386.37,-425.44 377.87,-419.12 380.57,-429.36 386.37,-425.44\"/>\n<text text-anchor=\"middle\" x=\"372.27\" y=\"-438.7\" font-family=\"Helvetica,sans-Serif\" font-size=\"14.00\">True</text>\n</g>\n<!-- 2 -->\n<g id=\"node3\" class=\"node\">\n<title>2</title>\n<path fill=\"#f5effd\" stroke=\"black\" d=\"M580,-425C580,-425 445,-425 445,-425 439,-425 433,-419 433,-413 433,-413 433,-354 433,-354 433,-348 439,-342 445,-342 445,-342 580,-342 580,-342 586,-342 592,-348 592,-354 592,-354 592,-413 592,-413 592,-419 586,-425 580,-425\"/>\n<text text-anchor=\"start\" x=\"441\" y=\"-409.8\" font-family=\"Helvetica,sans-Serif\" font-size=\"14.00\">petal width (cm) ≤ 1.75</text>\n<text text-anchor=\"start\" x=\"475\" y=\"-394.8\" font-family=\"Helvetica,sans-Serif\" font-size=\"14.00\">gini = 0.499</text>\n<text text-anchor=\"start\" x=\"469\" y=\"-379.8\" font-family=\"Helvetica,sans-Serif\" font-size=\"14.00\">samples = 73</text>\n<text text-anchor=\"start\" x=\"456\" y=\"-364.8\" font-family=\"Helvetica,sans-Serif\" font-size=\"14.00\">value = [0, 35, 38]</text>\n<text text-anchor=\"start\" x=\"462.5\" y=\"-349.8\" font-family=\"Helvetica,sans-Serif\" font-size=\"14.00\">class = virginica</text>\n</g>\n<!-- 0&#45;&gt;2 -->\n<g id=\"edge2\" class=\"edge\">\n<title>0&#45;&gt;2</title>\n<path fill=\"none\" stroke=\"black\" d=\"M461.13,-460.58C466.82,-452.16 472.86,-443.2 478.74,-434.5\"/>\n<polygon fill=\"black\" stroke=\"black\" points=\"481.48,-436.7 484.17,-426.45 475.67,-432.78 481.48,-436.7\"/>\n<text text-anchor=\"middle\" x=\"489.78\" y=\"-446.04\" font-family=\"Helvetica,sans-Serif\" font-size=\"14.00\">False</text>\n</g>\n<!-- 3 -->\n<g id=\"node4\" class=\"node\">\n<title>3</title>\n<path fill=\"#50e890\" stroke=\"black\" d=\"M478,-306C478,-306 337,-306 337,-306 331,-306 325,-300 325,-294 325,-294 325,-235 325,-235 325,-229 331,-223 337,-223 337,-223 478,-223 478,-223 484,-223 490,-229 490,-235 490,-235 490,-294 490,-294 490,-300 484,-306 478,-306\"/>\n<text text-anchor=\"start\" x=\"333\" y=\"-290.8\" font-family=\"Helvetica,sans-Serif\" font-size=\"14.00\">petal length (cm) ≤ 4.95</text>\n<text text-anchor=\"start\" x=\"370\" y=\"-275.8\" font-family=\"Helvetica,sans-Serif\" font-size=\"14.00\">gini = 0.188</text>\n<text text-anchor=\"start\" x=\"364\" y=\"-260.8\" font-family=\"Helvetica,sans-Serif\" font-size=\"14.00\">samples = 38</text>\n<text text-anchor=\"start\" x=\"355\" y=\"-245.8\" font-family=\"Helvetica,sans-Serif\" font-size=\"14.00\">value = [0, 34, 4]</text>\n<text text-anchor=\"start\" x=\"352\" y=\"-230.8\" font-family=\"Helvetica,sans-Serif\" font-size=\"14.00\">class = versicolor</text>\n</g>\n<!-- 2&#45;&gt;3 -->\n<g id=\"edge3\" class=\"edge\">\n<title>2&#45;&gt;3</title>\n<path fill=\"none\" stroke=\"black\" d=\"M475.78,-341.58C467.98,-332.89 459.67,-323.63 451.63,-314.67\"/>\n<polygon fill=\"black\" stroke=\"black\" points=\"454.32,-312.43 445.04,-307.33 449.11,-317.11 454.32,-312.43\"/>\n</g>\n<!-- 10 -->\n<g id=\"node11\" class=\"node\">\n<title>10</title>\n<path fill=\"#853fe6\" stroke=\"black\" d=\"M688,-306C688,-306 547,-306 547,-306 541,-306 535,-300 535,-294 535,-294 535,-235 535,-235 535,-229 541,-223 547,-223 547,-223 688,-223 688,-223 694,-223 700,-229 700,-235 700,-235 700,-294 700,-294 700,-300 694,-306 688,-306\"/>\n<text text-anchor=\"start\" x=\"543\" y=\"-290.8\" font-family=\"Helvetica,sans-Serif\" font-size=\"14.00\">petal length (cm) ≤ 4.85</text>\n<text text-anchor=\"start\" x=\"580\" y=\"-275.8\" font-family=\"Helvetica,sans-Serif\" font-size=\"14.00\">gini = 0.056</text>\n<text text-anchor=\"start\" x=\"574\" y=\"-260.8\" font-family=\"Helvetica,sans-Serif\" font-size=\"14.00\">samples = 35</text>\n<text text-anchor=\"start\" x=\"565\" y=\"-245.8\" font-family=\"Helvetica,sans-Serif\" font-size=\"14.00\">value = [0, 1, 34]</text>\n<text text-anchor=\"start\" x=\"567.5\" y=\"-230.8\" font-family=\"Helvetica,sans-Serif\" font-size=\"14.00\">class = virginica</text>\n</g>\n<!-- 2&#45;&gt;10 -->\n<g id=\"edge10\" class=\"edge\">\n<title>2&#45;&gt;10</title>\n<path fill=\"none\" stroke=\"black\" d=\"M549.22,-341.58C557.02,-332.89 565.33,-323.63 573.37,-314.67\"/>\n<polygon fill=\"black\" stroke=\"black\" points=\"575.89,-317.11 579.96,-307.33 570.68,-312.43 575.89,-317.11\"/>\n</g>\n<!-- 4 -->\n<g id=\"node5\" class=\"node\">\n<title>4</title>\n<path fill=\"#3fe685\" stroke=\"black\" d=\"M271,-187C271,-187 136,-187 136,-187 130,-187 124,-181 124,-175 124,-175 124,-116 124,-116 124,-110 130,-104 136,-104 136,-104 271,-104 271,-104 277,-104 283,-110 283,-116 283,-116 283,-175 283,-175 283,-181 277,-187 271,-187\"/>\n<text text-anchor=\"start\" x=\"132\" y=\"-171.8\" font-family=\"Helvetica,sans-Serif\" font-size=\"14.00\">petal width (cm) ≤ 1.65</text>\n<text text-anchor=\"start\" x=\"166\" y=\"-156.8\" font-family=\"Helvetica,sans-Serif\" font-size=\"14.00\">gini = 0.059</text>\n<text text-anchor=\"start\" x=\"160\" y=\"-141.8\" font-family=\"Helvetica,sans-Serif\" font-size=\"14.00\">samples = 33</text>\n<text text-anchor=\"start\" x=\"151\" y=\"-126.8\" font-family=\"Helvetica,sans-Serif\" font-size=\"14.00\">value = [0, 32, 1]</text>\n<text text-anchor=\"start\" x=\"148\" y=\"-111.8\" font-family=\"Helvetica,sans-Serif\" font-size=\"14.00\">class = versicolor</text>\n</g>\n<!-- 3&#45;&gt;4 -->\n<g id=\"edge4\" class=\"edge\">\n<title>3&#45;&gt;4</title>\n<path fill=\"none\" stroke=\"black\" d=\"M336.15,-222.58C319.53,-213.05 301.72,-202.83 284.71,-193.08\"/>\n<polygon fill=\"black\" stroke=\"black\" points=\"286.54,-190.09 276.12,-188.15 283.06,-196.16 286.54,-190.09\"/>\n</g>\n<!-- 7 -->\n<g id=\"node8\" class=\"node\">\n<title>7</title>\n<path fill=\"#d5bdf6\" stroke=\"black\" d=\"M475,-187C475,-187 340,-187 340,-187 334,-187 328,-181 328,-175 328,-175 328,-116 328,-116 328,-110 334,-104 340,-104 340,-104 475,-104 475,-104 481,-104 487,-110 487,-116 487,-116 487,-175 487,-175 487,-181 481,-187 475,-187\"/>\n<text text-anchor=\"start\" x=\"336\" y=\"-171.8\" font-family=\"Helvetica,sans-Serif\" font-size=\"14.00\">petal width (cm) ≤ 1.55</text>\n<text text-anchor=\"start\" x=\"374\" y=\"-156.8\" font-family=\"Helvetica,sans-Serif\" font-size=\"14.00\">gini = 0.48</text>\n<text text-anchor=\"start\" x=\"368\" y=\"-141.8\" font-family=\"Helvetica,sans-Serif\" font-size=\"14.00\">samples = 5</text>\n<text text-anchor=\"start\" x=\"359\" y=\"-126.8\" font-family=\"Helvetica,sans-Serif\" font-size=\"14.00\">value = [0, 2, 3]</text>\n<text text-anchor=\"start\" x=\"357.5\" y=\"-111.8\" font-family=\"Helvetica,sans-Serif\" font-size=\"14.00\">class = virginica</text>\n</g>\n<!-- 3&#45;&gt;7 -->\n<g id=\"edge7\" class=\"edge\">\n<title>3&#45;&gt;7</title>\n<path fill=\"none\" stroke=\"black\" d=\"M407.5,-222.58C407.5,-214.79 407.5,-206.53 407.5,-198.45\"/>\n<polygon fill=\"black\" stroke=\"black\" points=\"411,-198.71 407.5,-188.71 404,-198.71 411,-198.71\"/>\n</g>\n<!-- 5 -->\n<g id=\"node6\" class=\"node\">\n<title>5</title>\n<path fill=\"#39e581\" stroke=\"black\" d=\"M115,-68C115,-68 12,-68 12,-68 6,-68 0,-62 0,-56 0,-56 0,-12 0,-12 0,-6 6,0 12,0 12,0 115,0 115,0 121,0 127,-6 127,-12 127,-12 127,-56 127,-56 127,-62 121,-68 115,-68\"/>\n<text text-anchor=\"start\" x=\"34.5\" y=\"-52.8\" font-family=\"Helvetica,sans-Serif\" font-size=\"14.00\">gini = 0.0</text>\n<text text-anchor=\"start\" x=\"20\" y=\"-37.8\" font-family=\"Helvetica,sans-Serif\" font-size=\"14.00\">samples = 32</text>\n<text text-anchor=\"start\" x=\"11\" y=\"-22.8\" font-family=\"Helvetica,sans-Serif\" font-size=\"14.00\">value = [0, 32, 0]</text>\n<text text-anchor=\"start\" x=\"8\" y=\"-7.8\" font-family=\"Helvetica,sans-Serif\" font-size=\"14.00\">class = versicolor</text>\n</g>\n<!-- 4&#45;&gt;5 -->\n<g id=\"edge5\" class=\"edge\">\n<title>4&#45;&gt;5</title>\n<path fill=\"none\" stroke=\"black\" d=\"M151.37,-103.73C139.47,-94.42 126.84,-84.54 114.98,-75.26\"/>\n<polygon fill=\"black\" stroke=\"black\" points=\"117.3,-72.64 107.27,-69.23 112.99,-78.15 117.3,-72.64\"/>\n</g>\n<!-- 6 -->\n<g id=\"node7\" class=\"node\">\n<title>6</title>\n<path fill=\"#8139e5\" stroke=\"black\" d=\"M249.5,-68C249.5,-68 157.5,-68 157.5,-68 151.5,-68 145.5,-62 145.5,-56 145.5,-56 145.5,-12 145.5,-12 145.5,-6 151.5,0 157.5,0 157.5,0 249.5,0 249.5,0 255.5,0 261.5,-6 261.5,-12 261.5,-12 261.5,-56 261.5,-56 261.5,-62 255.5,-68 249.5,-68\"/>\n<text text-anchor=\"start\" x=\"174.5\" y=\"-52.8\" font-family=\"Helvetica,sans-Serif\" font-size=\"14.00\">gini = 0.0</text>\n<text text-anchor=\"start\" x=\"164\" y=\"-37.8\" font-family=\"Helvetica,sans-Serif\" font-size=\"14.00\">samples = 1</text>\n<text text-anchor=\"start\" x=\"155\" y=\"-22.8\" font-family=\"Helvetica,sans-Serif\" font-size=\"14.00\">value = [0, 0, 1]</text>\n<text text-anchor=\"start\" x=\"153.5\" y=\"-7.8\" font-family=\"Helvetica,sans-Serif\" font-size=\"14.00\">class = virginica</text>\n</g>\n<!-- 4&#45;&gt;6 -->\n<g id=\"edge6\" class=\"edge\">\n<title>4&#45;&gt;6</title>\n<path fill=\"none\" stroke=\"black\" d=\"M203.5,-103.73C203.5,-95.88 203.5,-87.63 203.5,-79.67\"/>\n<polygon fill=\"black\" stroke=\"black\" points=\"207,-79.81 203.5,-69.81 200,-79.81 207,-79.81\"/>\n</g>\n<!-- 8 -->\n<g id=\"node9\" class=\"node\">\n<title>8</title>\n<path fill=\"#8139e5\" stroke=\"black\" d=\"M383.5,-68C383.5,-68 291.5,-68 291.5,-68 285.5,-68 279.5,-62 279.5,-56 279.5,-56 279.5,-12 279.5,-12 279.5,-6 285.5,0 291.5,0 291.5,0 383.5,0 383.5,0 389.5,0 395.5,-6 395.5,-12 395.5,-12 395.5,-56 395.5,-56 395.5,-62 389.5,-68 383.5,-68\"/>\n<text text-anchor=\"start\" x=\"308.5\" y=\"-52.8\" font-family=\"Helvetica,sans-Serif\" font-size=\"14.00\">gini = 0.0</text>\n<text text-anchor=\"start\" x=\"298\" y=\"-37.8\" font-family=\"Helvetica,sans-Serif\" font-size=\"14.00\">samples = 3</text>\n<text text-anchor=\"start\" x=\"289\" y=\"-22.8\" font-family=\"Helvetica,sans-Serif\" font-size=\"14.00\">value = [0, 0, 3]</text>\n<text text-anchor=\"start\" x=\"287.5\" y=\"-7.8\" font-family=\"Helvetica,sans-Serif\" font-size=\"14.00\">class = virginica</text>\n</g>\n<!-- 7&#45;&gt;8 -->\n<g id=\"edge8\" class=\"edge\">\n<title>7&#45;&gt;8</title>\n<path fill=\"none\" stroke=\"black\" d=\"M381.43,-103.73C376.01,-95.24 370.28,-86.28 364.82,-77.73\"/>\n<polygon fill=\"black\" stroke=\"black\" points=\"367.94,-76.12 359.6,-69.57 362.04,-79.89 367.94,-76.12\"/>\n</g>\n<!-- 9 -->\n<g id=\"node10\" class=\"node\">\n<title>9</title>\n<path fill=\"#39e581\" stroke=\"black\" d=\"M529,-68C529,-68 426,-68 426,-68 420,-68 414,-62 414,-56 414,-56 414,-12 414,-12 414,-6 420,0 426,0 426,0 529,0 529,0 535,0 541,-6 541,-12 541,-12 541,-56 541,-56 541,-62 535,-68 529,-68\"/>\n<text text-anchor=\"start\" x=\"448.5\" y=\"-52.8\" font-family=\"Helvetica,sans-Serif\" font-size=\"14.00\">gini = 0.0</text>\n<text text-anchor=\"start\" x=\"438\" y=\"-37.8\" font-family=\"Helvetica,sans-Serif\" font-size=\"14.00\">samples = 2</text>\n<text text-anchor=\"start\" x=\"429\" y=\"-22.8\" font-family=\"Helvetica,sans-Serif\" font-size=\"14.00\">value = [0, 2, 0]</text>\n<text text-anchor=\"start\" x=\"422\" y=\"-7.8\" font-family=\"Helvetica,sans-Serif\" font-size=\"14.00\">class = versicolor</text>\n</g>\n<!-- 7&#45;&gt;9 -->\n<g id=\"edge9\" class=\"edge\">\n<title>7&#45;&gt;9</title>\n<path fill=\"none\" stroke=\"black\" d=\"M433.57,-103.73C438.99,-95.24 444.72,-86.28 450.18,-77.73\"/>\n<polygon fill=\"black\" stroke=\"black\" points=\"452.96,-79.89 455.4,-69.57 447.06,-76.12 452.96,-79.89\"/>\n</g>\n<!-- 11 -->\n<g id=\"node12\" class=\"node\">\n<title>11</title>\n<path fill=\"#ffffff\" stroke=\"black\" d=\"M683,-187C683,-187 552,-187 552,-187 546,-187 540,-181 540,-175 540,-175 540,-116 540,-116 540,-110 546,-104 552,-104 552,-104 683,-104 683,-104 689,-104 695,-110 695,-116 695,-116 695,-175 695,-175 695,-181 689,-187 683,-187\"/>\n<text text-anchor=\"start\" x=\"548\" y=\"-171.8\" font-family=\"Helvetica,sans-Serif\" font-size=\"14.00\">sepal width (cm) ≤ 3.1</text>\n<text text-anchor=\"start\" x=\"588.5\" y=\"-156.8\" font-family=\"Helvetica,sans-Serif\" font-size=\"14.00\">gini = 0.5</text>\n<text text-anchor=\"start\" x=\"578\" y=\"-141.8\" font-family=\"Helvetica,sans-Serif\" font-size=\"14.00\">samples = 2</text>\n<text text-anchor=\"start\" x=\"569\" y=\"-126.8\" font-family=\"Helvetica,sans-Serif\" font-size=\"14.00\">value = [0, 1, 1]</text>\n<text text-anchor=\"start\" x=\"562\" y=\"-111.8\" font-family=\"Helvetica,sans-Serif\" font-size=\"14.00\">class = versicolor</text>\n</g>\n<!-- 10&#45;&gt;11 -->\n<g id=\"edge11\" class=\"edge\">\n<title>10&#45;&gt;11</title>\n<path fill=\"none\" stroke=\"black\" d=\"M617.5,-222.58C617.5,-214.79 617.5,-206.53 617.5,-198.45\"/>\n<polygon fill=\"black\" stroke=\"black\" points=\"621,-198.71 617.5,-188.71 614,-198.71 621,-198.71\"/>\n</g>\n<!-- 14 -->\n<g id=\"node15\" class=\"node\">\n<title>14</title>\n<path fill=\"#8139e5\" stroke=\"black\" d=\"M822,-179.5C822,-179.5 725,-179.5 725,-179.5 719,-179.5 713,-173.5 713,-167.5 713,-167.5 713,-123.5 713,-123.5 713,-117.5 719,-111.5 725,-111.5 725,-111.5 822,-111.5 822,-111.5 828,-111.5 834,-117.5 834,-123.5 834,-123.5 834,-167.5 834,-167.5 834,-173.5 828,-179.5 822,-179.5\"/>\n<text text-anchor=\"start\" x=\"744.5\" y=\"-164.3\" font-family=\"Helvetica,sans-Serif\" font-size=\"14.00\">gini = 0.0</text>\n<text text-anchor=\"start\" x=\"730\" y=\"-149.3\" font-family=\"Helvetica,sans-Serif\" font-size=\"14.00\">samples = 33</text>\n<text text-anchor=\"start\" x=\"721\" y=\"-134.3\" font-family=\"Helvetica,sans-Serif\" font-size=\"14.00\">value = [0, 0, 33]</text>\n<text text-anchor=\"start\" x=\"723.5\" y=\"-119.3\" font-family=\"Helvetica,sans-Serif\" font-size=\"14.00\">class = virginica</text>\n</g>\n<!-- 10&#45;&gt;14 -->\n<g id=\"edge14\" class=\"edge\">\n<title>10&#45;&gt;14</title>\n<path fill=\"none\" stroke=\"black\" d=\"M672.06,-222.58C687.63,-210.9 704.58,-198.19 720.08,-186.57\"/>\n<polygon fill=\"black\" stroke=\"black\" points=\"721.91,-189.57 727.81,-180.77 717.71,-183.97 721.91,-189.57\"/>\n</g>\n<!-- 12 -->\n<g id=\"node13\" class=\"node\">\n<title>12</title>\n<path fill=\"#8139e5\" stroke=\"black\" d=\"M663.5,-68C663.5,-68 571.5,-68 571.5,-68 565.5,-68 559.5,-62 559.5,-56 559.5,-56 559.5,-12 559.5,-12 559.5,-6 565.5,0 571.5,0 571.5,0 663.5,0 663.5,0 669.5,0 675.5,-6 675.5,-12 675.5,-12 675.5,-56 675.5,-56 675.5,-62 669.5,-68 663.5,-68\"/>\n<text text-anchor=\"start\" x=\"588.5\" y=\"-52.8\" font-family=\"Helvetica,sans-Serif\" font-size=\"14.00\">gini = 0.0</text>\n<text text-anchor=\"start\" x=\"578\" y=\"-37.8\" font-family=\"Helvetica,sans-Serif\" font-size=\"14.00\">samples = 1</text>\n<text text-anchor=\"start\" x=\"569\" y=\"-22.8\" font-family=\"Helvetica,sans-Serif\" font-size=\"14.00\">value = [0, 0, 1]</text>\n<text text-anchor=\"start\" x=\"567.5\" y=\"-7.8\" font-family=\"Helvetica,sans-Serif\" font-size=\"14.00\">class = virginica</text>\n</g>\n<!-- 11&#45;&gt;12 -->\n<g id=\"edge12\" class=\"edge\">\n<title>11&#45;&gt;12</title>\n<path fill=\"none\" stroke=\"black\" d=\"M617.5,-103.73C617.5,-95.88 617.5,-87.63 617.5,-79.67\"/>\n<polygon fill=\"black\" stroke=\"black\" points=\"621,-79.81 617.5,-69.81 614,-79.81 621,-79.81\"/>\n</g>\n<!-- 13 -->\n<g id=\"node14\" class=\"node\">\n<title>13</title>\n<path fill=\"#39e581\" stroke=\"black\" d=\"M809,-68C809,-68 706,-68 706,-68 700,-68 694,-62 694,-56 694,-56 694,-12 694,-12 694,-6 700,0 706,0 706,0 809,0 809,0 815,0 821,-6 821,-12 821,-12 821,-56 821,-56 821,-62 815,-68 809,-68\"/>\n<text text-anchor=\"start\" x=\"728.5\" y=\"-52.8\" font-family=\"Helvetica,sans-Serif\" font-size=\"14.00\">gini = 0.0</text>\n<text text-anchor=\"start\" x=\"718\" y=\"-37.8\" font-family=\"Helvetica,sans-Serif\" font-size=\"14.00\">samples = 1</text>\n<text text-anchor=\"start\" x=\"709\" y=\"-22.8\" font-family=\"Helvetica,sans-Serif\" font-size=\"14.00\">value = [0, 1, 0]</text>\n<text text-anchor=\"start\" x=\"702\" y=\"-7.8\" font-family=\"Helvetica,sans-Serif\" font-size=\"14.00\">class = versicolor</text>\n</g>\n<!-- 11&#45;&gt;13 -->\n<g id=\"edge13\" class=\"edge\">\n<title>11&#45;&gt;13</title>\n<path fill=\"none\" stroke=\"black\" d=\"M669.63,-103.73C681.53,-94.42 694.16,-84.54 706.02,-75.26\"/>\n<polygon fill=\"black\" stroke=\"black\" points=\"708.01,-78.15 713.73,-69.23 703.7,-72.64 708.01,-78.15\"/>\n</g>\n</g>\n</svg>\n",
      "text/plain": [
       "<graphviz.sources.Source at 0x1dabafee690>"
      ]
     },
     "execution_count": 14,
     "metadata": {},
     "output_type": "execute_result"
    }
   ],
   "source": [
    "import graphviz\n",
    "\n",
    "clf = tree.DecisionTreeClassifier(max_depth=5, criterion='gini')\n",
    "clf.fit(X_train, y_train)\n",
    "y_test_pred = clf.predict(X_test)\n",
    "y_train_pred = clf.predict(X_train)\n",
    "print(accuracy_score(y_train, y_train_pred), accuracy_score(y_test, y_test_pred))\n",
    "\n",
    "dot_data = tree.export_graphviz(clf, out_file=None, \n",
    "                     feature_names=iris.feature_names,  \n",
    "                     class_names=iris.target_names,  \n",
    "                     filled=True, rounded=True,  \n",
    "                     special_characters=True)  \n",
    "graph = graphviz.Source(dot_data)\n",
    "graph "
   ]
  },
  {
   "cell_type": "code",
   "execution_count": 15,
   "metadata": {},
   "outputs": [
    {
     "name": "stdout",
     "output_type": "stream",
     "text": [
      "digraph Tree {\n",
      "node [shape=box, style=\"filled, rounded\", color=\"black\", fontname=\"helvetica\"] ;\n",
      "edge [fontname=\"helvetica\"] ;\n",
      "0 [label=<petal length (cm) &le; 2.45<br/>gini = 0.666<br/>samples = 112<br/>value = [39, 35, 38]<br/>class = setosa>, fillcolor=\"#fffdfc\"] ;\n",
      "1 [label=<gini = 0.0<br/>samples = 39<br/>value = [39, 0, 0]<br/>class = setosa>, fillcolor=\"#e58139\"] ;\n",
      "0 -> 1 [labeldistance=2.5, labelangle=45, headlabel=\"True\"] ;\n",
      "2 [label=<petal width (cm) &le; 1.75<br/>gini = 0.499<br/>samples = 73<br/>value = [0, 35, 38]<br/>class = virginica>, fillcolor=\"#f5effd\"] ;\n",
      "0 -> 2 [labeldistance=2.5, labelangle=-45, headlabel=\"False\"] ;\n",
      "3 [label=<petal length (cm) &le; 4.95<br/>gini = 0.188<br/>samples = 38<br/>value = [0, 34, 4]<br/>class = versicolor>, fillcolor=\"#50e890\"] ;\n",
      "2 -> 3 ;\n",
      "4 [label=<petal width (cm) &le; 1.65<br/>gini = 0.059<br/>samples = 33<br/>value = [0, 32, 1]<br/>class = versicolor>, fillcolor=\"#3fe685\"] ;\n",
      "3 -> 4 ;\n",
      "5 [label=<gini = 0.0<br/>samples = 32<br/>value = [0, 32, 0]<br/>class = versicolor>, fillcolor=\"#39e581\"] ;\n",
      "4 -> 5 ;\n",
      "6 [label=<gini = 0.0<br/>samples = 1<br/>value = [0, 0, 1]<br/>class = virginica>, fillcolor=\"#8139e5\"] ;\n",
      "4 -> 6 ;\n",
      "7 [label=<petal width (cm) &le; 1.55<br/>gini = 0.48<br/>samples = 5<br/>value = [0, 2, 3]<br/>class = virginica>, fillcolor=\"#d5bdf6\"] ;\n",
      "3 -> 7 ;\n",
      "8 [label=<gini = 0.0<br/>samples = 3<br/>value = [0, 0, 3]<br/>class = virginica>, fillcolor=\"#8139e5\"] ;\n",
      "7 -> 8 ;\n",
      "9 [label=<gini = 0.0<br/>samples = 2<br/>value = [0, 2, 0]<br/>class = versicolor>, fillcolor=\"#39e581\"] ;\n",
      "7 -> 9 ;\n",
      "10 [label=<petal length (cm) &le; 4.85<br/>gini = 0.056<br/>samples = 35<br/>value = [0, 1, 34]<br/>class = virginica>, fillcolor=\"#853fe6\"] ;\n",
      "2 -> 10 ;\n",
      "11 [label=<sepal width (cm) &le; 3.1<br/>gini = 0.5<br/>samples = 2<br/>value = [0, 1, 1]<br/>class = versicolor>, fillcolor=\"#ffffff\"] ;\n",
      "10 -> 11 ;\n",
      "12 [label=<gini = 0.0<br/>samples = 1<br/>value = [0, 0, 1]<br/>class = virginica>, fillcolor=\"#8139e5\"] ;\n",
      "11 -> 12 ;\n",
      "13 [label=<gini = 0.0<br/>samples = 1<br/>value = [0, 1, 0]<br/>class = versicolor>, fillcolor=\"#39e581\"] ;\n",
      "11 -> 13 ;\n",
      "14 [label=<gini = 0.0<br/>samples = 33<br/>value = [0, 0, 33]<br/>class = virginica>, fillcolor=\"#8139e5\"] ;\n",
      "10 -> 14 ;\n",
      "}\n"
     ]
    }
   ],
   "source": [
    "print(dot_data)"
   ]
  },
  {
   "cell_type": "code",
   "execution_count": 16,
   "metadata": {},
   "outputs": [
    {
     "data": {
      "text/plain": [
       "(0.9821428571428571, 0.9210526315789473)"
      ]
     },
     "execution_count": 16,
     "metadata": {},
     "output_type": "execute_result"
    }
   ],
   "source": [
    "clf = DecisionTreeClassifier(max_depth=5, criterion='gini')\n",
    "clf.fit(X_train, y_train)\n",
    "y_test_pred = clf.predict(X_test)\n",
    "y_train_pred = clf.predict(X_train)\n",
    "accuracy_score(y_train, y_train_pred), accuracy_score(y_test, y_test_pred)"
   ]
  },
  {
   "cell_type": "code",
   "execution_count": 17,
   "metadata": {},
   "outputs": [
    {
     "name": "stdout",
     "output_type": "stream",
     "text": [
      "{'e58139': 0.3482142857142857, '39e581': 0.3125, '8139e5': 0.3392857142857143}\n",
      "{'e58139': 1.0, '39e581': 0.0, '8139e5': 0.0}\n",
      "{'e58139': 0.0, '39e581': 0.4794520547945205, '8139e5': 0.5205479452054794}\n",
      "{'e58139': 0.0, '39e581': 0.9166666666666666, '8139e5': 0.08333333333333333}\n",
      "{'e58139': 0.0, '39e581': 1.0, '8139e5': 0.0}\n",
      "{'e58139': 0.0, '39e581': 0.4, '8139e5': 0.6}\n",
      "{'e58139': 0.0, '39e581': 0.0, '8139e5': 1.0}\n",
      "{'e58139': 0.0, '39e581': 0.6666666666666666, '8139e5': 0.3333333333333333}\n",
      "{'e58139': 0.0, '39e581': 0.05405405405405406, '8139e5': 0.9459459459459459}\n",
      "{'e58139': 0.0, '39e581': 0.5, '8139e5': 0.5}\n",
      "{'e58139': 0.0, '39e581': 0.0, '8139e5': 1.0}\n",
      "{'e58139': 0.0, '39e581': 1.0, '8139e5': 0.0}\n",
      "{'e58139': 0.0, '39e581': 0.02857142857142857, '8139e5': 0.9714285714285714}\n",
      "{'e58139': 0.0, '39e581': 0.5, '8139e5': 0.5}\n",
      "{'e58139': 0.0, '39e581': 0.0, '8139e5': 1.0}\n"
     ]
    }
   ],
   "source": [
    "dot_data = clf.export_graphviz(feature_names=iris.feature_names, class_names=iris.target_names,)"
   ]
  },
  {
   "cell_type": "code",
   "execution_count": 18,
   "metadata": {},
   "outputs": [
    {
     "data": {
      "image/svg+xml": "<?xml version=\"1.0\" encoding=\"UTF-8\" standalone=\"no\"?>\n<!DOCTYPE svg PUBLIC \"-//W3C//DTD SVG 1.1//EN\"\n \"http://www.w3.org/Graphics/SVG/1.1/DTD/svg11.dtd\">\n<!-- Generated by graphviz version 7.0.5 (20221223.1930)\n -->\n<!-- Title: Tree Pages: 1 -->\n<svg width=\"863pt\" height=\"552pt\"\n viewBox=\"0.00 0.00 863.00 552.00\" xmlns=\"http://www.w3.org/2000/svg\" xmlns:xlink=\"http://www.w3.org/1999/xlink\">\n<g id=\"graph0\" class=\"graph\" transform=\"scale(1 1) rotate(0) translate(4 548)\">\n<title>Tree</title>\n<polygon fill=\"white\" stroke=\"none\" points=\"-4,4 -4,-548 859,-548 859,4 -4,4\"/>\n<!-- 0 -->\n<g id=\"node1\" class=\"node\">\n<title>0</title>\n<path fill=\"#8d8789\" stroke=\"black\" d=\"M324.5,-544C324.5,-544 182.5,-544 182.5,-544 176.5,-544 170.5,-538 170.5,-532 170.5,-532 170.5,-473 170.5,-473 170.5,-467 176.5,-461 182.5,-461 182.5,-461 324.5,-461 324.5,-461 330.5,-461 336.5,-467 336.5,-473 336.5,-473 336.5,-532 336.5,-532 336.5,-538 330.5,-544 324.5,-544\"/>\n<text text-anchor=\"start\" x=\"178.5\" y=\"-528.8\" font-family=\"Helvetica,sans-Serif\" font-size=\"14.00\">petal length (cm) &lt; 2.57</text>\n<text text-anchor=\"start\" x=\"220\" y=\"-513.8\" font-family=\"Helvetica,sans-Serif\" font-size=\"14.00\">gini = 0.33</text>\n<text text-anchor=\"start\" x=\"206\" y=\"-498.8\" font-family=\"Helvetica,sans-Serif\" font-size=\"14.00\">samples = 112</text>\n<text text-anchor=\"start\" x=\"193\" y=\"-483.8\" font-family=\"Helvetica,sans-Serif\" font-size=\"14.00\">value = [39, 35, 38]</text>\n<text text-anchor=\"start\" x=\"207.5\" y=\"-468.8\" font-family=\"Helvetica,sans-Serif\" font-size=\"14.00\">class = setosa</text>\n</g>\n<!-- 1 -->\n<g id=\"node2\" class=\"node\">\n<title>1</title>\n<path fill=\"#e58139\" stroke=\"black\" d=\"M223,-417.5C223,-417.5 126,-417.5 126,-417.5 120,-417.5 114,-411.5 114,-405.5 114,-405.5 114,-361.5 114,-361.5 114,-355.5 120,-349.5 126,-349.5 126,-349.5 223,-349.5 223,-349.5 229,-349.5 235,-355.5 235,-361.5 235,-361.5 235,-405.5 235,-405.5 235,-411.5 229,-417.5 223,-417.5\"/>\n<text text-anchor=\"start\" x=\"151.5\" y=\"-402.3\" font-family=\"Helvetica,sans-Serif\" font-size=\"14.00\">gini = 0</text>\n<text text-anchor=\"start\" x=\"131\" y=\"-387.3\" font-family=\"Helvetica,sans-Serif\" font-size=\"14.00\">samples = 39</text>\n<text text-anchor=\"start\" x=\"122\" y=\"-372.3\" font-family=\"Helvetica,sans-Serif\" font-size=\"14.00\">value = [39, 0, 0]</text>\n<text text-anchor=\"start\" x=\"128.5\" y=\"-357.3\" font-family=\"Helvetica,sans-Serif\" font-size=\"14.00\">class = setosa</text>\n</g>\n<!-- 0&#45;&gt;1 -->\n<g id=\"edge1\" class=\"edge\">\n<title>0&#45;&gt;1</title>\n<path fill=\"none\" stroke=\"black\" d=\"M225.87,-460.58C218.57,-449.77 210.68,-438.09 203.33,-427.19\"/>\n<polygon fill=\"black\" stroke=\"black\" points=\"206.37,-425.44 197.87,-419.12 200.57,-429.36 206.37,-425.44\"/>\n</g>\n<!-- 2 -->\n<g id=\"node3\" class=\"node\">\n<title>2</title>\n<path fill=\"#5e8bb5\" stroke=\"black\" d=\"M401.5,-425C401.5,-425 265.5,-425 265.5,-425 259.5,-425 253.5,-419 253.5,-413 253.5,-413 253.5,-354 253.5,-354 253.5,-348 259.5,-342 265.5,-342 265.5,-342 401.5,-342 401.5,-342 407.5,-342 413.5,-348 413.5,-354 413.5,-354 413.5,-413 413.5,-413 413.5,-419 407.5,-425 401.5,-425\"/>\n<text text-anchor=\"start\" x=\"261.5\" y=\"-409.8\" font-family=\"Helvetica,sans-Serif\" font-size=\"14.00\">petal width (cm) &lt; 1.70</text>\n<text text-anchor=\"start\" x=\"300\" y=\"-394.8\" font-family=\"Helvetica,sans-Serif\" font-size=\"14.00\">gini = 0.13</text>\n<text text-anchor=\"start\" x=\"290\" y=\"-379.8\" font-family=\"Helvetica,sans-Serif\" font-size=\"14.00\">samples = 73</text>\n<text text-anchor=\"start\" x=\"277\" y=\"-364.8\" font-family=\"Helvetica,sans-Serif\" font-size=\"14.00\">value = [0, 35, 38]</text>\n<text text-anchor=\"start\" x=\"283.5\" y=\"-349.8\" font-family=\"Helvetica,sans-Serif\" font-size=\"14.00\">class = virginica</text>\n</g>\n<!-- 0&#45;&gt;2 -->\n<g id=\"edge2\" class=\"edge\">\n<title>0&#45;&gt;2</title>\n<path fill=\"none\" stroke=\"black\" d=\"M281.48,-460.58C287.24,-452.16 293.36,-443.2 299.31,-434.5\"/>\n<polygon fill=\"black\" stroke=\"black\" points=\"302.06,-436.68 304.82,-426.45 296.28,-432.73 302.06,-436.68\"/>\n</g>\n<!-- 3 -->\n<g id=\"node4\" class=\"node\">\n<title>3</title>\n<path fill=\"#3fd689\" stroke=\"black\" d=\"M298.5,-306C298.5,-306 156.5,-306 156.5,-306 150.5,-306 144.5,-300 144.5,-294 144.5,-294 144.5,-235 144.5,-235 144.5,-229 150.5,-223 156.5,-223 156.5,-223 298.5,-223 298.5,-223 304.5,-223 310.5,-229 310.5,-235 310.5,-235 310.5,-294 310.5,-294 310.5,-300 304.5,-306 298.5,-306\"/>\n<text text-anchor=\"start\" x=\"152.5\" y=\"-290.8\" font-family=\"Helvetica,sans-Serif\" font-size=\"14.00\">petal length (cm) &lt; 4.72</text>\n<text text-anchor=\"start\" x=\"194\" y=\"-275.8\" font-family=\"Helvetica,sans-Serif\" font-size=\"14.00\">gini = 0.07</text>\n<text text-anchor=\"start\" x=\"184\" y=\"-260.8\" font-family=\"Helvetica,sans-Serif\" font-size=\"14.00\">samples = 36</text>\n<text text-anchor=\"start\" x=\"175\" y=\"-245.8\" font-family=\"Helvetica,sans-Serif\" font-size=\"14.00\">value = [0, 33, 3]</text>\n<text text-anchor=\"start\" x=\"172\" y=\"-230.8\" font-family=\"Helvetica,sans-Serif\" font-size=\"14.00\">class = versicolor</text>\n</g>\n<!-- 2&#45;&gt;3 -->\n<g id=\"edge3\" class=\"edge\">\n<title>2&#45;&gt;3</title>\n<path fill=\"none\" stroke=\"black\" d=\"M296.43,-341.58C288.55,-332.89 280.17,-323.63 272.05,-314.67\"/>\n<polygon fill=\"black\" stroke=\"black\" points=\"274.7,-312.38 265.39,-307.32 269.51,-317.08 274.7,-312.38\"/>\n</g>\n<!-- 8 -->\n<g id=\"node9\" class=\"node\">\n<title>8</title>\n<path fill=\"#7d42df\" stroke=\"black\" d=\"M507.5,-306C507.5,-306 371.5,-306 371.5,-306 365.5,-306 359.5,-300 359.5,-294 359.5,-294 359.5,-235 359.5,-235 359.5,-229 365.5,-223 371.5,-223 371.5,-223 507.5,-223 507.5,-223 513.5,-223 519.5,-229 519.5,-235 519.5,-235 519.5,-294 519.5,-294 519.5,-300 513.5,-306 507.5,-306\"/>\n<text text-anchor=\"start\" x=\"367.5\" y=\"-290.8\" font-family=\"Helvetica,sans-Serif\" font-size=\"14.00\">petal width (cm) &lt; 1.75</text>\n<text text-anchor=\"start\" x=\"406\" y=\"-275.8\" font-family=\"Helvetica,sans-Serif\" font-size=\"14.00\">gini = 0.08</text>\n<text text-anchor=\"start\" x=\"396\" y=\"-260.8\" font-family=\"Helvetica,sans-Serif\" font-size=\"14.00\">samples = 37</text>\n<text text-anchor=\"start\" x=\"387\" y=\"-245.8\" font-family=\"Helvetica,sans-Serif\" font-size=\"14.00\">value = [0, 2, 35]</text>\n<text text-anchor=\"start\" x=\"389.5\" y=\"-230.8\" font-family=\"Helvetica,sans-Serif\" font-size=\"14.00\">class = virginica</text>\n</g>\n<!-- 2&#45;&gt;8 -->\n<g id=\"edge8\" class=\"edge\">\n<title>2&#45;&gt;8</title>\n<path fill=\"none\" stroke=\"black\" d=\"M370.57,-341.58C378.45,-332.89 386.83,-323.63 394.95,-314.67\"/>\n<polygon fill=\"black\" stroke=\"black\" points=\"397.49,-317.08 401.61,-307.32 392.3,-312.38 397.49,-317.08\"/>\n</g>\n<!-- 4 -->\n<g id=\"node5\" class=\"node\">\n<title>4</title>\n<path fill=\"#39e581\" stroke=\"black\" d=\"M115,-179.5C115,-179.5 12,-179.5 12,-179.5 6,-179.5 0,-173.5 0,-167.5 0,-167.5 0,-123.5 0,-123.5 0,-117.5 6,-111.5 12,-111.5 12,-111.5 115,-111.5 115,-111.5 121,-111.5 127,-117.5 127,-123.5 127,-123.5 127,-167.5 127,-167.5 127,-173.5 121,-179.5 115,-179.5\"/>\n<text text-anchor=\"start\" x=\"40.5\" y=\"-164.3\" font-family=\"Helvetica,sans-Serif\" font-size=\"14.00\">gini = 0</text>\n<text text-anchor=\"start\" x=\"20\" y=\"-149.3\" font-family=\"Helvetica,sans-Serif\" font-size=\"14.00\">samples = 31</text>\n<text text-anchor=\"start\" x=\"11\" y=\"-134.3\" font-family=\"Helvetica,sans-Serif\" font-size=\"14.00\">value = [0, 31, 0]</text>\n<text text-anchor=\"start\" x=\"8\" y=\"-119.3\" font-family=\"Helvetica,sans-Serif\" font-size=\"14.00\">class = versicolor</text>\n</g>\n<!-- 3&#45;&gt;4 -->\n<g id=\"edge4\" class=\"edge\">\n<title>3&#45;&gt;4</title>\n<path fill=\"none\" stroke=\"black\" d=\"M170.14,-222.58C153.62,-210.79 135.62,-197.95 119.2,-186.24\"/>\n<polygon fill=\"black\" stroke=\"black\" points=\"121.67,-183.7 111.49,-180.74 117.6,-189.4 121.67,-183.7\"/>\n</g>\n<!-- 5 -->\n<g id=\"node6\" class=\"node\">\n<title>5</title>\n<path fill=\"#647dbd\" stroke=\"black\" d=\"M297.5,-187C297.5,-187 157.5,-187 157.5,-187 151.5,-187 145.5,-181 145.5,-175 145.5,-175 145.5,-116 145.5,-116 145.5,-110 151.5,-104 157.5,-104 157.5,-104 297.5,-104 297.5,-104 303.5,-104 309.5,-110 309.5,-116 309.5,-116 309.5,-175 309.5,-175 309.5,-181 303.5,-187 297.5,-187\"/>\n<text text-anchor=\"start\" x=\"153.5\" y=\"-171.8\" font-family=\"Helvetica,sans-Serif\" font-size=\"14.00\">sepal width (cm) &lt; 2.65</text>\n<text text-anchor=\"start\" x=\"194\" y=\"-156.8\" font-family=\"Helvetica,sans-Serif\" font-size=\"14.00\">gini = 0.27</text>\n<text text-anchor=\"start\" x=\"188\" y=\"-141.8\" font-family=\"Helvetica,sans-Serif\" font-size=\"14.00\">samples = 5</text>\n<text text-anchor=\"start\" x=\"179\" y=\"-126.8\" font-family=\"Helvetica,sans-Serif\" font-size=\"14.00\">value = [0, 2, 3]</text>\n<text text-anchor=\"start\" x=\"177.5\" y=\"-111.8\" font-family=\"Helvetica,sans-Serif\" font-size=\"14.00\">class = virginica</text>\n</g>\n<!-- 3&#45;&gt;5 -->\n<g id=\"edge5\" class=\"edge\">\n<title>3&#45;&gt;5</title>\n<path fill=\"none\" stroke=\"black\" d=\"M227.5,-222.58C227.5,-214.79 227.5,-206.53 227.5,-198.45\"/>\n<polygon fill=\"black\" stroke=\"black\" points=\"231,-198.71 227.5,-188.71 224,-198.71 231,-198.71\"/>\n</g>\n<!-- 6 -->\n<g id=\"node7\" class=\"node\">\n<title>6</title>\n<path fill=\"#8139e5\" stroke=\"black\" d=\"M133.5,-68C133.5,-68 41.5,-68 41.5,-68 35.5,-68 29.5,-62 29.5,-56 29.5,-56 29.5,-12 29.5,-12 29.5,-6 35.5,0 41.5,0 41.5,0 133.5,0 133.5,0 139.5,0 145.5,-6 145.5,-12 145.5,-12 145.5,-56 145.5,-56 145.5,-62 139.5,-68 133.5,-68\"/>\n<text text-anchor=\"start\" x=\"64.5\" y=\"-52.8\" font-family=\"Helvetica,sans-Serif\" font-size=\"14.00\">gini = 0</text>\n<text text-anchor=\"start\" x=\"48\" y=\"-37.8\" font-family=\"Helvetica,sans-Serif\" font-size=\"14.00\">samples = 2</text>\n<text text-anchor=\"start\" x=\"39\" y=\"-22.8\" font-family=\"Helvetica,sans-Serif\" font-size=\"14.00\">value = [0, 0, 2]</text>\n<text text-anchor=\"start\" x=\"37.5\" y=\"-7.8\" font-family=\"Helvetica,sans-Serif\" font-size=\"14.00\">class = virginica</text>\n</g>\n<!-- 5&#45;&gt;6 -->\n<g id=\"edge6\" class=\"edge\">\n<title>5&#45;&gt;6</title>\n<path fill=\"none\" stroke=\"black\" d=\"M175.37,-103.73C163.47,-94.42 150.84,-84.54 138.98,-75.26\"/>\n<polygon fill=\"black\" stroke=\"black\" points=\"141.3,-72.64 131.27,-69.23 136.99,-78.15 141.3,-72.64\"/>\n</g>\n<!-- 7 -->\n<g id=\"node8\" class=\"node\">\n<title>7</title>\n<path fill=\"#51aba2\" stroke=\"black\" d=\"M279,-68C279,-68 176,-68 176,-68 170,-68 164,-62 164,-56 164,-56 164,-12 164,-12 164,-6 170,0 176,0 176,0 279,0 279,0 285,0 291,-6 291,-12 291,-12 291,-56 291,-56 291,-62 285,-68 279,-68\"/>\n<text text-anchor=\"start\" x=\"204.5\" y=\"-52.8\" font-family=\"Helvetica,sans-Serif\" font-size=\"14.00\">gini = 0</text>\n<text text-anchor=\"start\" x=\"188\" y=\"-37.8\" font-family=\"Helvetica,sans-Serif\" font-size=\"14.00\">samples = 3</text>\n<text text-anchor=\"start\" x=\"179\" y=\"-22.8\" font-family=\"Helvetica,sans-Serif\" font-size=\"14.00\">value = [0, 2, 1]</text>\n<text text-anchor=\"start\" x=\"172\" y=\"-7.8\" font-family=\"Helvetica,sans-Serif\" font-size=\"14.00\">class = versicolor</text>\n</g>\n<!-- 5&#45;&gt;7 -->\n<g id=\"edge7\" class=\"edge\">\n<title>5&#45;&gt;7</title>\n<path fill=\"none\" stroke=\"black\" d=\"M227.5,-103.73C227.5,-95.88 227.5,-87.63 227.5,-79.67\"/>\n<polygon fill=\"black\" stroke=\"black\" points=\"231,-79.81 227.5,-69.81 224,-79.81 231,-79.81\"/>\n</g>\n<!-- 9 -->\n<g id=\"node10\" class=\"node\">\n<title>9</title>\n<path fill=\"#5d8fb3\" stroke=\"black\" d=\"M512.5,-187C512.5,-187 366.5,-187 366.5,-187 360.5,-187 354.5,-181 354.5,-175 354.5,-175 354.5,-116 354.5,-116 354.5,-110 360.5,-104 366.5,-104 366.5,-104 512.5,-104 512.5,-104 518.5,-104 524.5,-110 524.5,-116 524.5,-116 524.5,-175 524.5,-175 524.5,-181 518.5,-187 512.5,-187\"/>\n<text text-anchor=\"start\" x=\"362.5\" y=\"-171.8\" font-family=\"Helvetica,sans-Serif\" font-size=\"14.00\">sepal length (cm) &lt; 5.80</text>\n<text text-anchor=\"start\" x=\"406\" y=\"-156.8\" font-family=\"Helvetica,sans-Serif\" font-size=\"14.00\">gini = 0.00</text>\n<text text-anchor=\"start\" x=\"400\" y=\"-141.8\" font-family=\"Helvetica,sans-Serif\" font-size=\"14.00\">samples = 2</text>\n<text text-anchor=\"start\" x=\"391\" y=\"-126.8\" font-family=\"Helvetica,sans-Serif\" font-size=\"14.00\">value = [0, 1, 1]</text>\n<text text-anchor=\"start\" x=\"389.5\" y=\"-111.8\" font-family=\"Helvetica,sans-Serif\" font-size=\"14.00\">class = virginica</text>\n</g>\n<!-- 8&#45;&gt;9 -->\n<g id=\"edge9\" class=\"edge\">\n<title>8&#45;&gt;9</title>\n<path fill=\"none\" stroke=\"black\" d=\"M439.5,-222.58C439.5,-214.79 439.5,-206.53 439.5,-198.45\"/>\n<polygon fill=\"black\" stroke=\"black\" points=\"443,-198.71 439.5,-188.71 436,-198.71 443,-198.71\"/>\n</g>\n<!-- 12 -->\n<g id=\"node13\" class=\"node\">\n<title>12</title>\n<path fill=\"#7e3de2\" stroke=\"black\" d=\"M723.5,-187C723.5,-187 581.5,-187 581.5,-187 575.5,-187 569.5,-181 569.5,-175 569.5,-175 569.5,-116 569.5,-116 569.5,-110 575.5,-104 581.5,-104 581.5,-104 723.5,-104 723.5,-104 729.5,-104 735.5,-110 735.5,-116 735.5,-116 735.5,-175 735.5,-175 735.5,-181 729.5,-187 723.5,-187\"/>\n<text text-anchor=\"start\" x=\"577.5\" y=\"-171.8\" font-family=\"Helvetica,sans-Serif\" font-size=\"14.00\">petal length (cm) &lt; 4.85</text>\n<text text-anchor=\"start\" x=\"619\" y=\"-156.8\" font-family=\"Helvetica,sans-Serif\" font-size=\"14.00\">gini = 0.03</text>\n<text text-anchor=\"start\" x=\"609\" y=\"-141.8\" font-family=\"Helvetica,sans-Serif\" font-size=\"14.00\">samples = 35</text>\n<text text-anchor=\"start\" x=\"600\" y=\"-126.8\" font-family=\"Helvetica,sans-Serif\" font-size=\"14.00\">value = [0, 1, 34]</text>\n<text text-anchor=\"start\" x=\"602.5\" y=\"-111.8\" font-family=\"Helvetica,sans-Serif\" font-size=\"14.00\">class = virginica</text>\n</g>\n<!-- 8&#45;&gt;12 -->\n<g id=\"edge12\" class=\"edge\">\n<title>8&#45;&gt;12</title>\n<path fill=\"none\" stroke=\"black\" d=\"M514,-222.58C531.51,-212.96 550.29,-202.64 568.2,-192.81\"/>\n<polygon fill=\"black\" stroke=\"black\" points=\"569.64,-196.01 576.72,-188.13 566.27,-189.87 569.64,-196.01\"/>\n</g>\n<!-- 10 -->\n<g id=\"node11\" class=\"node\">\n<title>10</title>\n<path fill=\"#8139e5\" stroke=\"black\" d=\"M413.5,-68C413.5,-68 321.5,-68 321.5,-68 315.5,-68 309.5,-62 309.5,-56 309.5,-56 309.5,-12 309.5,-12 309.5,-6 315.5,0 321.5,0 321.5,0 413.5,0 413.5,0 419.5,0 425.5,-6 425.5,-12 425.5,-12 425.5,-56 425.5,-56 425.5,-62 419.5,-68 413.5,-68\"/>\n<text text-anchor=\"start\" x=\"344.5\" y=\"-52.8\" font-family=\"Helvetica,sans-Serif\" font-size=\"14.00\">gini = 0</text>\n<text text-anchor=\"start\" x=\"328\" y=\"-37.8\" font-family=\"Helvetica,sans-Serif\" font-size=\"14.00\">samples = 1</text>\n<text text-anchor=\"start\" x=\"319\" y=\"-22.8\" font-family=\"Helvetica,sans-Serif\" font-size=\"14.00\">value = [0, 0, 1]</text>\n<text text-anchor=\"start\" x=\"317.5\" y=\"-7.8\" font-family=\"Helvetica,sans-Serif\" font-size=\"14.00\">class = virginica</text>\n</g>\n<!-- 9&#45;&gt;10 -->\n<g id=\"edge10\" class=\"edge\">\n<title>9&#45;&gt;10</title>\n<path fill=\"none\" stroke=\"black\" d=\"M412.69,-103.73C407.11,-95.24 401.22,-86.28 395.6,-77.73\"/>\n<polygon fill=\"black\" stroke=\"black\" points=\"398.65,-76 390.23,-69.56 392.8,-79.84 398.65,-76\"/>\n</g>\n<!-- 11 -->\n<g id=\"node12\" class=\"node\">\n<title>11</title>\n<path fill=\"#39e581\" stroke=\"black\" d=\"M559,-68C559,-68 456,-68 456,-68 450,-68 444,-62 444,-56 444,-56 444,-12 444,-12 444,-6 450,0 456,0 456,0 559,0 559,0 565,0 571,-6 571,-12 571,-12 571,-56 571,-56 571,-62 565,-68 559,-68\"/>\n<text text-anchor=\"start\" x=\"484.5\" y=\"-52.8\" font-family=\"Helvetica,sans-Serif\" font-size=\"14.00\">gini = 0</text>\n<text text-anchor=\"start\" x=\"468\" y=\"-37.8\" font-family=\"Helvetica,sans-Serif\" font-size=\"14.00\">samples = 1</text>\n<text text-anchor=\"start\" x=\"459\" y=\"-22.8\" font-family=\"Helvetica,sans-Serif\" font-size=\"14.00\">value = [0, 1, 0]</text>\n<text text-anchor=\"start\" x=\"452\" y=\"-7.8\" font-family=\"Helvetica,sans-Serif\" font-size=\"14.00\">class = versicolor</text>\n</g>\n<!-- 9&#45;&gt;11 -->\n<g id=\"edge11\" class=\"edge\">\n<title>9&#45;&gt;11</title>\n<path fill=\"none\" stroke=\"black\" d=\"M464.82,-103.73C470.03,-95.34 475.53,-86.47 480.79,-78.01\"/>\n<polygon fill=\"black\" stroke=\"black\" points=\"483.72,-79.93 486.02,-69.59 477.77,-76.23 483.72,-79.93\"/>\n</g>\n<!-- 13 -->\n<g id=\"node14\" class=\"node\">\n<title>13</title>\n<path fill=\"#5d8fb3\" stroke=\"black\" d=\"M704,-68C704,-68 601,-68 601,-68 595,-68 589,-62 589,-56 589,-56 589,-12 589,-12 589,-6 595,0 601,0 601,0 704,0 704,0 710,0 716,-6 716,-12 716,-12 716,-56 716,-56 716,-62 710,-68 704,-68\"/>\n<text text-anchor=\"start\" x=\"629.5\" y=\"-52.8\" font-family=\"Helvetica,sans-Serif\" font-size=\"14.00\">gini = 0</text>\n<text text-anchor=\"start\" x=\"613\" y=\"-37.8\" font-family=\"Helvetica,sans-Serif\" font-size=\"14.00\">samples = 2</text>\n<text text-anchor=\"start\" x=\"604\" y=\"-22.8\" font-family=\"Helvetica,sans-Serif\" font-size=\"14.00\">value = [0, 1, 1]</text>\n<text text-anchor=\"start\" x=\"597\" y=\"-7.8\" font-family=\"Helvetica,sans-Serif\" font-size=\"14.00\">class = versicolor</text>\n</g>\n<!-- 12&#45;&gt;13 -->\n<g id=\"edge13\" class=\"edge\">\n<title>12&#45;&gt;13</title>\n<path fill=\"none\" stroke=\"black\" d=\"M652.5,-103.73C652.5,-95.88 652.5,-87.63 652.5,-79.67\"/>\n<polygon fill=\"black\" stroke=\"black\" points=\"656,-79.81 652.5,-69.81 649,-79.81 656,-79.81\"/>\n</g>\n<!-- 14 -->\n<g id=\"node15\" class=\"node\">\n<title>14</title>\n<path fill=\"#8139e5\" stroke=\"black\" d=\"M843,-68C843,-68 746,-68 746,-68 740,-68 734,-62 734,-56 734,-56 734,-12 734,-12 734,-6 740,0 746,0 746,0 843,0 843,0 849,0 855,-6 855,-12 855,-12 855,-56 855,-56 855,-62 849,-68 843,-68\"/>\n<text text-anchor=\"start\" x=\"771.5\" y=\"-52.8\" font-family=\"Helvetica,sans-Serif\" font-size=\"14.00\">gini = 0</text>\n<text text-anchor=\"start\" x=\"751\" y=\"-37.8\" font-family=\"Helvetica,sans-Serif\" font-size=\"14.00\">samples = 33</text>\n<text text-anchor=\"start\" x=\"742\" y=\"-22.8\" font-family=\"Helvetica,sans-Serif\" font-size=\"14.00\">value = [0, 0, 33]</text>\n<text text-anchor=\"start\" x=\"744.5\" y=\"-7.8\" font-family=\"Helvetica,sans-Serif\" font-size=\"14.00\">class = virginica</text>\n</g>\n<!-- 12&#45;&gt;14 -->\n<g id=\"edge14\" class=\"edge\">\n<title>12&#45;&gt;14</title>\n<path fill=\"none\" stroke=\"black\" d=\"M705.38,-103.73C717.44,-94.42 730.25,-84.54 742.29,-75.26\"/>\n<polygon fill=\"black\" stroke=\"black\" points=\"744.34,-78.1 750.12,-69.22 740.06,-72.56 744.34,-78.1\"/>\n</g>\n</g>\n</svg>\n",
      "text/plain": [
       "<graphviz.sources.Source at 0x1dabb0c98d0>"
      ]
     },
     "execution_count": 18,
     "metadata": {},
     "output_type": "execute_result"
    }
   ],
   "source": [
    "graph = graphviz.Source(dot_data)\n",
    "graph "
   ]
  },
  {
   "cell_type": "code",
   "execution_count": null,
   "metadata": {},
   "outputs": [],
   "source": []
  },
  {
   "cell_type": "code",
   "execution_count": 19,
   "metadata": {},
   "outputs": [
    {
     "ename": "NameError",
     "evalue": "name 'calculate_node_fillcolor' is not defined",
     "output_type": "error",
     "traceback": [
      "\u001b[1;31m---------------------------------------------------------------------------\u001b[0m",
      "\u001b[1;31mNameError\u001b[0m                                 Traceback (most recent call last)",
      "Cell \u001b[1;32mIn[19], line 6\u001b[0m\n\u001b[0;32m      2\u001b[0m class_colors \u001b[39m=\u001b[39m [\u001b[39m\"\u001b[39m\u001b[39m3dcc63\u001b[39m\u001b[39m\"\u001b[39m, \u001b[39m\"\u001b[39m\u001b[39m7c34cf\u001b[39m\u001b[39m\"\u001b[39m, \u001b[39m\"\u001b[39m\u001b[39mdb4618\u001b[39m\u001b[39m\"\u001b[39m]\n\u001b[0;32m      3\u001b[0m \u001b[39m# class_colors = [\"ffffff\", \"0000ff\", \"000000\"]\u001b[39;00m\n\u001b[1;32m----> 6\u001b[0m calculate_node_fillcolor(value, class_colors)\n",
      "\u001b[1;31mNameError\u001b[0m: name 'calculate_node_fillcolor' is not defined"
     ]
    }
   ],
   "source": [
    "value = [0,1,38]\n",
    "class_colors = [\"3dcc63\", \"7c34cf\", \"db4618\"]\n",
    "# class_colors = [\"ffffff\", \"0000ff\", \"000000\"]\n",
    "\n",
    "\n",
    "calculate_node_fillcolor(value, class_colors)\n"
   ]
  },
  {
   "cell_type": "code",
   "execution_count": null,
   "metadata": {},
   "outputs": [],
   "source": []
  },
  {
   "cell_type": "code",
   "execution_count": null,
   "metadata": {},
   "outputs": [
    {
     "data": {
      "text/plain": [
       "'a4a4f6'"
      ]
     },
     "execution_count": 20,
     "metadata": {},
     "output_type": "execute_result"
    }
   ],
   "source": [
    "combine_hex_values({\"ffffff\": 1.0, \"0000ff\": 0.5, \"000000\": 0.05})"
   ]
  }
 ],
 "metadata": {
  "kernelspec": {
   "display_name": "ml_scratch",
   "language": "python",
   "name": "python3"
  },
  "language_info": {
   "codemirror_mode": {
    "name": "ipython",
    "version": 3
   },
   "file_extension": ".py",
   "mimetype": "text/x-python",
   "name": "python",
   "nbconvert_exporter": "python",
   "pygments_lexer": "ipython3",
   "version": "3.11.0"
  },
  "orig_nbformat": 4,
  "vscode": {
   "interpreter": {
    "hash": "5287ba08fa44ac65bd615339e8b20f6184d001330af1d1c7cfe837ba2d07d6ee"
   }
  }
 },
 "nbformat": 4,
 "nbformat_minor": 2
}
